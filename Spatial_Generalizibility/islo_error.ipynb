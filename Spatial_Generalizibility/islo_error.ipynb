{
  "cells": [
    {
      "cell_type": "code",
      "execution_count": 46,
      "metadata": {
        "id": "sCN8d5W8_64W"
      },
      "outputs": [],
      "source": [
        "import os\n",
        "\n",
        "input_folder = '/content/drive/MyDrive/real_masks/Data2_nonaug'\n",
        "output_folder = '/content/drive/MyDrive/real_masks/Data2_nonaugg'\n",
        "\n",
        "os.makedirs(output_folder, exist_ok=True)\n",
        "\n",
        "os.chdir(input_folder)\n",
        "\n",
        "for file_name in os.listdir(input_folder):\n",
        "    if file_name.lower().endswith(\".jpg\"):\n",
        "        old_path = os.path.join(input_folder, file_name)\n",
        "        new_path = os.path.join(output_folder, file_name.lower())\n",
        "        os.rename(old_path, new_path)\n"
      ]
    },
    {
      "cell_type": "code",
      "execution_count": 33,
      "metadata": {
        "colab": {
          "base_uri": "https://localhost:8080/",
          "height": 775
        },
        "id": "FAN3nF2ok_H9",
        "outputId": "6e1e0945-9f8d-43eb-d5c6-d0feb76275d5"
      },
      "outputs": [
        {
          "name": "stdout",
          "output_type": "stream",
          "text": [
            "Drive already mounted at /content/drive; to attempt to forcibly remount, call drive.mount(\"/content/drive\", force_remount=True).\n",
            "(256, 256)\n",
            "(256, 256)\n"
          ]
        },
        {
          "data": {
            "image/png": "[encoded data removed]",
            "text/plain": [
              "<PIL.Image.Image image mode=L size=256x256>"
            ]
          },
          "metadata": {},
          "output_type": "display_data"
        },
        {
          "data": {
            "image/png": "[encoded data removed]",
            "text/plain": [
              "<PIL.Image.Image image mode=L size=256x256>"
            ]
          },
          "metadata": {},
          "output_type": "display_data"
        },
        {
          "name": "stdout",
          "output_type": "stream",
          "text": [
            "[[255 255 255 ...   0   0   0]\n",
            " [255 255 255 ...   0   0   0]\n",
            " [255 255 255 ...   0   0   0]\n",
            " ...\n",
            " [  0   0   0 ...   0   0   0]\n",
            " [  0   0   0 ...   0   0   0]\n",
            " [  0   0   0 ...   0   0   0]]\n",
            "{0: 56494, 1: 9042}\n",
            "(256, 256)\n",
            "0.137969970703125\n"
          ]
        }
      ],
      "source": [
        "import cv2\n",
        "import os\n",
        "from google.colab import drive\n",
        "from google.colab.patches import cv2_imshow\n",
        "\n",
        "# Mount Google Drive to access the folders\n",
        "drive.mount('/content/drive')\n",
        "true = cv2.imread('/content/drive/MyDrive/predicted_masks/test/tru.jpg',cv2.IMREAD_GRAYSCALE)\n",
        "pred = cv2.imread('/content/drive/MyDrive/predicted_masks/test/pred.jpg',cv2.IMREAD_GRAYSCALE)\n",
        "true = cv2.resize(true, (256,256))\n",
        "pred = cv2.resize(pred, (256,256))\n",
        "# cv2_imshow(pred)\n",
        "print(true.shape)\n",
        "print(pred.shape)\n",
        "threshold = 127\n",
        "_, true = cv2.threshold(true, threshold, 255, cv2.THRESH_BINARY)\n",
        "_, pred = cv2.threshold(pred, threshold, 255, cv2.THRESH_BINARY)\n",
        "# pred[pred == 255] = 1\n",
        "# true[true == 255] = 1\n",
        "cv2_imshow(true)\n",
        "cv2_imshow(pred)\n",
        "# print(true.shape)\n",
        "# print(res)\n",
        "# print(pred)\n",
        "# if img1.shape == img2.shape:\n",
        "                # Subtract pixel values and append the result to the list\n",
        "result = cv2.subtract(true, pred)\n",
        "print(result)\n",
        "result[result == 255] = 1\n",
        "import numpy as np\n",
        "import pandas as pd\n",
        "def get_frequency_2d_array_pandas(arr):\n",
        "    # Flatten the 2D array\n",
        "    flat_arr = np.array(arr).flatten()\n",
        "\n",
        "    # Use the value_counts() function to get the frequency of each unique value\n",
        "    frequency_series = pd.value_counts(flat_arr)\n",
        "\n",
        "    # Convert the result to a dictionary\n",
        "    frequency_dict = frequency_series.to_dict()\n",
        "\n",
        "    return frequency_dict\n",
        "\n",
        "result1 = get_frequency_2d_array_pandas(result)\n",
        "print(result1)\n",
        "print(result.shape)\n",
        "error = (np.sum(result))/(256*256)\n",
        "\n",
        "errors.append(error)\n"
      ]
    },
    {
      "cell_type": "code",
      "execution_count": 1,
      "metadata": {
        "colab": {
          "base_uri": "https://localhost:8080/"
        },
        "id": "OpHC8sKhhLra",
        "outputId": "f67d8e1a-1f64-4cb4-eb02-9bf226dbd043"
      },
      "outputs": [
        {
          "name": "stdout",
          "output_type": "stream",
          "text": [
            "ges_359756_298370_20.jpg\n",
            "ges_359756_298371_20.jpg\n",
            "ges_359757_298369_20.jpg\n",
            "ges_359757_298371_20.jpg\n",
            "ges_359758_298369_20.jpg\n",
            "ges_359758_298371_20.jpg\n",
            "ges_359759_298369_20.jpg\n",
            "ges_359759_298370_20.jpg\n",
            "ges_359759_298371_20.jpg\n",
            "([], [])\n"
          ]
        }
      ],
      "source": [
        "import cv2\n",
        "import os\n",
        "import numpy as np\n",
        "# from google.colab import drive\n",
        "\n",
        "# Mount Google Drive to access the folders\n",
        "# drive.mount('/content/drive')\n",
        "\n",
        "def compare_images(folder1_path, folder2_path):\n",
        "    # List to store the results of image comparison\n",
        "    errors = []\n",
        "    image_names = []\n",
        "\n",
        "    # Get the list of files in both folders\n",
        "    folder1_files = os.listdir(folder1_path)\n",
        "    folder2_files = os.listdir(folder2_path)\n",
        "\n",
        "    # Iterate through the files in the first folder\n",
        "    # for filename in folder1_files:\n",
        "    #     filename = filename[:-3]\n",
        "    # for filename in folder2_files:\n",
        "    #     filename = filename.lower()\n",
        "    for filename in folder1_files:\n",
        "        print(filename)\n",
        "        if filename in folder2_files:\n",
        "            # Construct the full file paths\n",
        "            file1_path = os.path.join(folder1_path, filename)\n",
        "            file2_path = os.path.join(folder2_path, filename)\n",
        "\n",
        "            # Read images using cv2\n",
        "            img1 = cv2.imread(file1_path, cv2.IMREAD_GRAYSCALE)\n",
        "            img2 = cv2.imread(file2_path, cv2.IMREAD_GRAYSCALE)\n",
        "            threshold = 127\n",
        "            _, true = cv2.threshold(img1, threshold, 255, cv2.THRESH_BINARY)\n",
        "            _, pred = cv2.threshold(img2, threshold, 255, cv2.THRESH_BINARY)\n",
        "\n",
        "\n",
        "            # Ensure that both images have the same size\n",
        "            if img1.shape == img2.shape:\n",
        "                # Subtract pixel values and append the result to the list\n",
        "                result = cv2.subtract(true, pred)\n",
        "                result[result == 255] = 1\n",
        "                result[result == -255] = 1\n",
        "                print(result)\n",
        "                error = (np.sum(result))/(256*256)\n",
        "                errors.append(error)\n",
        "                image_names.append(filename)\n",
        "\n",
        "            else:\n",
        "                print(f\"Images {filename} have different sizes and cannot be compared.\")\n",
        "\n",
        "    return errors, image_names\n",
        "\n",
        "# Example usage:\n",
        "folder1_path = 'Karachi_2\\Masks'\n",
        "folder2_path = 'Karachi_2\\Predictions\\DATA_1_AUG'\n",
        "\n",
        "comparison_results = compare_images(folder1_path, folder2_path)\n",
        "print(comparison_results)"
      ]
    },
    {
      "cell_type": "code",
      "execution_count": 3,
      "metadata": {
        "id": "eXJLVGdDBIu-"
      },
      "outputs": [],
      "source": [
        "mean = (sum(comparison_results[0])/(len(comparison_results[0])+1e-07))\n",
        "file_name = \"Karachi_2\\Pixel_Wise_Error\\Err_DATA_1_AUG.txt\"\n",
        "\n",
        "# Open the file in write mode\n",
        "with open(file_name, 'w') as file:\n",
        "    # Write each item in the list to a new line\n",
        "    i=0\n",
        "    for item in comparison_results[0]:\n",
        "        file.write(f\"{comparison_results[1][i]} --> {item}\\n\")\n",
        "        i+=1\n",
        "    file.write(\"mean: %f\" % mean)"
      ]
    }
  ],
  "metadata": {
    "colab": {
      "provenance": []
    },
    "kernelspec": {
      "display_name": "Python 3",
      "name": "python3"
    },
    "language_info": {
      "codemirror_mode": {
        "name": "ipython",
        "version": 3
      },
      "file_extension": ".py",
      "mimetype": "text/x-python",
      "name": "python",
      "nbconvert_exporter": "python",
      "pygments_lexer": "ipython3",
      "version": "3.11.2"
    }
  },
  "nbformat": 4,
  "nbformat_minor": 0
}
