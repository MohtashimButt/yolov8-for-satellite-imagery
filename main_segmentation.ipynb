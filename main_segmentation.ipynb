{
  "cells": [
    {
      "cell_type": "markdown",
      "metadata": {
        "id": "FyRdDYkqAKN4"
      },
      "source": [
        "## Before you start\n",
        "\n",
        "Let's make sure that we have access to GPU. We can use `nvidia-smi` command to do that. In case of any problems navigate to `Edit` -> `Notebook settings` -> `Hardware accelerator`, set it to `GPU`, and then click `Save`."
      ]
    },
    {
      "cell_type": "code",
      "execution_count": 1,
      "metadata": {
        "colab": {
          "base_uri": "https://localhost:8080/"
        },
        "id": "ARV56tifBAbz",
        "outputId": "371edfd3-9424-4123-84fd-0a1444db57c9"
      },
      "outputs": [
        {
          "output_type": "stream",
          "name": "stdout",
          "text": [
            "Mounted at /content/drive\n"
          ]
        }
      ],
      "source": [
        "import cv2\n",
        "import numpy as np\n",
        "import pandas as pd\n",
        "from google.colab.patches import cv2_imshow\n",
        "from google.colab import drive\n",
        "drive.mount('/content/drive')"
      ]
    },
    {
      "cell_type": "code",
      "execution_count": 2,
      "metadata": {
        "colab": {
          "base_uri": "https://localhost:8080/"
        },
        "id": "Y8cDtxLIBHgQ",
        "outputId": "163ad5af-0cee-4f43-daea-e828dec3ce2a"
      },
      "outputs": [
        {
          "output_type": "stream",
          "name": "stdout",
          "text": [
            "Mon Jun  3 13:30:25 2024       \n",
            "+---------------------------------------------------------------------------------------+\n",
            "| NVIDIA-SMI 535.104.05             Driver Version: 535.104.05   CUDA Version: 12.2     |\n",
            "|-----------------------------------------+----------------------+----------------------+\n",
            "| GPU  Name                 Persistence-M | Bus-Id        Disp.A | Volatile Uncorr. ECC |\n",
            "| Fan  Temp   Perf          Pwr:Usage/Cap |         Memory-Usage | GPU-Util  Compute M. |\n",
            "|                                         |                      |               MIG M. |\n",
            "|=========================================+======================+======================|\n",
            "|   0  Tesla T4                       Off | 00000000:00:04.0 Off |                    0 |\n",
            "| N/A   39C    P8               9W /  70W |      0MiB / 15360MiB |      0%      Default |\n",
            "|                                         |                      |                  N/A |\n",
            "+-----------------------------------------+----------------------+----------------------+\n",
            "                                                                                         \n",
            "+---------------------------------------------------------------------------------------+\n",
            "| Processes:                                                                            |\n",
            "|  GPU   GI   CI        PID   Type   Process name                            GPU Memory |\n",
            "|        ID   ID                                                             Usage      |\n",
            "|=======================================================================================|\n",
            "|  No running processes found                                                           |\n",
            "+---------------------------------------------------------------------------------------+\n"
          ]
        }
      ],
      "source": [
        "!nvidia-smi"
      ]
    },
    {
      "cell_type": "code",
      "execution_count": 3,
      "metadata": {
        "colab": {
          "base_uri": "https://localhost:8080/"
        },
        "id": "CjpPg4mGKc1v",
        "outputId": "03b7f30b-2241-4205-f1d3-f309915bce16"
      },
      "outputs": [
        {
          "output_type": "stream",
          "name": "stdout",
          "text": [
            "/content\n"
          ]
        }
      ],
      "source": [
        "import os\n",
        "HOME = os.getcwd()\n",
        "print(HOME)"
      ]
    },
    {
      "cell_type": "markdown",
      "metadata": {
        "id": "3C3EO_2zNChu"
      },
      "source": [
        "## Install YOLOv8\n",
        "\n",
        "⚠️ YOLOv8 is still under heavy development. Breaking changes are being introduced almost weekly. We strive to make our YOLOv8 notebooks work with the latest version of the library. Last tests took place on **12.02.2012** with version **YOLOv8.0.28**.\n",
        "\n",
        "If you notice that our notebook behaves incorrectly - especially if you experience errors that prevent you from going through the tutorial - don't hesitate! Let us know and open an [issue](https://github.com/roboflow/notebooks/issues) on the Roboflow Notebooks repository.\n",
        "\n",
        "YOLOv8 can be installed in two ways - from the source and via pip. This is because it is the first iteration of YOLO to have an official package."
      ]
    },
    {
      "cell_type": "code",
      "execution_count": 4,
      "metadata": {
        "colab": {
          "base_uri": "https://localhost:8080/"
        },
        "id": "tdSMcABDNKW-",
        "outputId": "54b56d4e-432d-4811-d23a-de316eabdbd2"
      },
      "outputs": [
        {
          "output_type": "stream",
          "name": "stdout",
          "text": [
            "Ultralytics YOLOv8.2.28 🚀 Python-3.10.12 torch-2.3.0+cu121 CUDA:0 (Tesla T4, 15102MiB)\n",
            "Setup complete ✅ (2 CPUs, 12.7 GB RAM, 30.0/78.2 GB disk)\n"
          ]
        }
      ],
      "source": [
        "# Pip install method (recommended)\n",
        "\n",
        "!pip install ultralytics\n",
        "\n",
        "from IPython import display\n",
        "display.clear_output()\n",
        "\n",
        "import ultralytics\n",
        "ultralytics.checks()"
      ]
    },
    {
      "cell_type": "code",
      "execution_count": null,
      "metadata": {
        "id": "iVvaIYEEPOty"
      },
      "outputs": [],
      "source": [
        "# Git clone method (for development)\n",
        "\n",
        "# %cd {HOME}\n",
        "# !git clone github.com/ultralytics/ultralytics\n",
        "# %cd {HOME}/ultralytics\n",
        "# !pip install -e .\n",
        "\n",
        "# from IPython import display\n",
        "# display.clear_output()\n",
        "\n",
        "# import ultralytics\n",
        "# ultralytics.checks()"
      ]
    },
    {
      "cell_type": "code",
      "execution_count": 5,
      "metadata": {
        "id": "VOEYrlBoP9-E"
      },
      "outputs": [],
      "source": [
        "from ultralytics import YOLO\n",
        "\n",
        "from IPython.display import display, Image"
      ]
    },
    {
      "cell_type": "markdown",
      "metadata": {
        "id": "HnnZSm5OQfPQ"
      },
      "source": [
        "## CLI Basics"
      ]
    },
    {
      "cell_type": "markdown",
      "metadata": {
        "id": "K33S7zlkQku0"
      },
      "source": [
        "If you want to train, validate or run inference on models and don't need to make any modifications to the code, using YOLO command line interface is the easiest way to get started. Read more about CLI in [Ultralytics YOLO Docs](https://docs.ultralytics.com/usage/cli/).\n",
        "\n",
        "```\n",
        "yolo task=detect    mode=train    model=yolov8n.yaml      args...\n",
        "          classify       predict        yolov8n-cls.yaml  args...\n",
        "          segment        val            yolov8n-seg.yaml  args...\n",
        "                         export         yolov8n.pt        format=onnx  args...\n",
        "```"
      ]
    },
    {
      "cell_type": "markdown",
      "metadata": {
        "id": "i4eASbcWkQBq"
      },
      "source": [
        "## Inference using a pre-trained model\n",
        "Put your images in the `Images` (in `.jpg` format) folder and run the cell below"
      ]
    },
    {
      "cell_type": "code",
      "execution_count": 12,
      "metadata": {
        "colab": {
          "base_uri": "https://localhost:8080/"
        },
        "id": "-QdSo5PCxbvG",
        "outputId": "f891f7c6-3684-41cf-febc-1e415386206f"
      },
      "outputs": [
        {
          "output_type": "stream",
          "name": "stdout",
          "text": [
            "WARNING ⚠️ 'boxes' is deprecated and will be removed in 'ultralytics 8.399999999999999' in the future. Please use 'show_boxes' instead.\n",
            "\n",
            "image 1/1 /content/Images/gesh_368560_311267_20.jpg: 256x256 2 GreenSpaces, 28.6ms\n",
            "Speed: 0.5ms preprocess, 28.6ms inference, 2.0ms postprocess per image at shape (1, 3, 256, 256)\n",
            "gesh_368560_311267_20.jpg  has been saved to Masks folder\n",
            "WARNING ⚠️ 'boxes' is deprecated and will be removed in 'ultralytics 8.399999999999999' in the future. Please use 'show_boxes' instead.\n",
            "\n",
            "image 1/1 /content/Images/gesh_368560_311257_20.jpg: 256x256 6 GreenSpaces, 28.5ms\n",
            "Speed: 0.5ms preprocess, 28.5ms inference, 1.8ms postprocess per image at shape (1, 3, 256, 256)\n",
            "gesh_368560_311257_20.jpg  has been saved to Masks folder\n",
            "WARNING ⚠️ 'boxes' is deprecated and will be removed in 'ultralytics 8.399999999999999' in the future. Please use 'show_boxes' instead.\n",
            "\n",
            "image 1/1 /content/Images/gesh_368560_311266_20.jpg: 256x256 4 GreenSpaces, 28.8ms\n",
            "Speed: 0.7ms preprocess, 28.8ms inference, 2.7ms postprocess per image at shape (1, 3, 256, 256)\n",
            "gesh_368560_311266_20.jpg  has been saved to Masks folder\n",
            "WARNING ⚠️ 'boxes' is deprecated and will be removed in 'ultralytics 8.399999999999999' in the future. Please use 'show_boxes' instead.\n",
            "\n",
            "image 1/1 /content/Images/gesh_368560_311252_20.jpg: 256x256 3 GreenSpaces, 28.6ms\n",
            "Speed: 0.4ms preprocess, 28.6ms inference, 1.9ms postprocess per image at shape (1, 3, 256, 256)\n",
            "gesh_368560_311252_20.jpg  has been saved to Masks folder\n"
          ]
        }
      ],
      "source": [
        "def get_mask(predict, filename, tag):\n",
        "    for result in predict:\n",
        "      if result.masks == None:\n",
        "        print(filename,\"in\",tag, \"is MASLA\")\n",
        "        return np.zeros((256, 256), dtype=np.uint8)\n",
        "        break\n",
        "      masks = result.masks.cpu().numpy()\n",
        "    index = (len(masks))\n",
        "    hey = 0\n",
        "    BIG_LIST = list()\n",
        "\n",
        "    for i in range(index):\n",
        "      if predict[0].masks == None:\n",
        "        break\n",
        "      a = (predict[0].masks.data[i].cpu().numpy() * 255).astype(\"uint8\")\n",
        "      hey+=a\n",
        "    return hey\n",
        "\n",
        "model = YOLO(\"Dataset1_NON_AUG.pt\")\n",
        "folder_path = \"Images\"\n",
        "for filename in os.listdir(folder_path):\n",
        "    file_path = os.path.join(folder_path, filename)\n",
        "    if os.path.exists(file_path):\n",
        "        predict_1_NON_AUG = model.predict(source=file_path, save=False, save_txt=False, boxes=False)\n",
        "        cv2.imwrite(fr\"Masks/{filename[:-4]}.jpg\",get_mask(predict_1_NON_AUG, filename, \"DATA_1_NON_AUG\"))\n",
        "        print(filename,\" has been saved to Masks folder\")"
      ]
    },
    {
      "cell_type": "markdown",
      "source": [
        "## IOU Score\n",
        "If you have ground truth masks for the images you want inferences of, you can put them in `Ground_Truth` folder and run the following cell.\n",
        "\n",
        "Note: Don't forget to create a `IOU.txt` in the `Eval_Metrices` folder"
      ],
      "metadata": {
        "id": "feedh0K6YaeW"
      }
    },
    {
      "cell_type": "code",
      "source": [
        "def calculate_iou(ground_truth, prediction):\n",
        "\n",
        "    if not (os.path.exists(prediction)):\n",
        "      print(\"inference mask doesn't exist\")\n",
        "    # Read binary masks\n",
        "    mask_gt = cv2.imread(ground_truth, cv2.IMREAD_GRAYSCALE)\n",
        "    mask_pred = cv2.imread(prediction, cv2.IMREAD_GRAYSCALE)\n",
        "\n",
        "    # Threshold the masks to ensure binary values\n",
        "    _, mask_gt = cv2.threshold(mask_gt, 128, 255, cv2.THRESH_BINARY)\n",
        "    _, mask_pred = cv2.threshold(mask_pred, 128, 255, cv2.THRESH_BINARY)\n",
        "\n",
        "    # Compute intersection and union\n",
        "    intersection = np.logical_and(mask_gt, mask_pred)\n",
        "    union = np.logical_or(mask_gt, mask_pred)\n",
        "\n",
        "    # Calculate IoU\n",
        "    if np.sum(union) == 0:\n",
        "      return np.sum(intersection) / (np.sum(mask_gt))\n",
        "    iou = np.sum(intersection) / (np.sum(union)+0.0000007)\n",
        "    return iou\n",
        "\n",
        "\n",
        "ground_truth_folder_path = fr'Ground_Truth/'\n",
        "prediction_path = fr\"Masks/\"\n",
        "\n",
        "\n",
        "iou_score_list = list()\n",
        "for i in os.listdir(ground_truth_folder_path):\n",
        "    iou_score = calculate_iou(ground_truth_folder_path+i, prediction_path+i)\n",
        "    with open('Eval_Metrices/IOU.txt', 'a') as file:\n",
        "        file.write(f\"{i}--> IOU SCORE: {iou_score}\\n\")\n",
        "    print(i)\n",
        "    iou_score_list.append(iou_score)\n",
        "\n",
        "with open('Eval_Metrices/IOU.txt', 'a') as file:\n",
        "    file.write(f\"Arithmatic mean IoU score: {sum(iou_score_list)/len(iou_score_list)}\")\n",
        "print(f\"Your IOUs have successfully been saved to IOU.txt file in Eval_Metrices folder\\nArithmatic Mean IoU score for all images is: {sum(iou_score_list)/len(iou_score_list)}\")\n"
      ],
      "metadata": {
        "colab": {
          "base_uri": "https://localhost:8080/"
        },
        "id": "YF6SWGKoYoxO",
        "outputId": "61b5c302-0dcc-4120-cf89-6a5b3cbf8d63"
      },
      "execution_count": 22,
      "outputs": [
        {
          "output_type": "stream",
          "name": "stdout",
          "text": [
            "gesh_368560_311267_20.jpg\n",
            "gesh_368560_311257_20.jpg\n",
            "gesh_368560_311266_20.jpg\n",
            "gesh_368560_311252_20.jpg\n",
            "Your IOUs have successfully been saved to IOU.txt file in Eval_Metrices folder\n",
            "Arithmatic Mean IoU score for all images is: 0.9999999999775466\n"
          ]
        }
      ]
    },
    {
      "cell_type": "markdown",
      "source": [
        "## DICE Loss\n",
        "If you have ground truth masks for the images you want inferences of, you can put them in `Ground_Truth` folder and run the following cell.\n",
        "\n",
        "Note: Don't forget to create a `DICE.txt` in the `Eval_Metrices` folder"
      ],
      "metadata": {
        "id": "u4IA4qvgdMKo"
      }
    },
    {
      "cell_type": "code",
      "source": [
        "def calculate_dice_loss(ground_truth, prediction):\n",
        "    # Read binary masks\n",
        "    mask_gt = cv2.imread(ground_truth, cv2.IMREAD_GRAYSCALE)\n",
        "    mask_pred = cv2.imread(prediction, cv2.IMREAD_GRAYSCALE)\n",
        "\n",
        "    # Threshold the masks to ensure binary values\n",
        "    _, mask_gt = cv2.threshold(mask_gt, 128, 255, cv2.THRESH_BINARY)\n",
        "    _, mask_pred = cv2.threshold(mask_pred, 128, 255, cv2.THRESH_BINARY)\n",
        "\n",
        "    # Normalizing\n",
        "    mask_gt = 1/255*mask_gt\n",
        "    mask_pred = 1/255*mask_pred\n",
        "\n",
        "    # Compute intersection and union\n",
        "    intersection = np.logical_and(mask_gt, mask_pred)\n",
        "    sum_add = np.sum(mask_gt) + np.sum(mask_pred)\n",
        "\n",
        "    # Calculate IoU\n",
        "    dice = 2 * np.sum(intersection) / sum_add\n",
        "    return 1-dice\n",
        "\n",
        "ground_truth_folder_path = fr'Ground_Truth/'\n",
        "prediction_path = fr\"Masks/\"\n",
        "\n",
        "\n",
        "dice_loss_list = list()\n",
        "for i in os.listdir(ground_truth_folder_path):\n",
        "    dice_loss = calculate_dice_loss(ground_truth_folder_path+i, prediction_path+i)\n",
        "    with open('Eval_Metrices/DICE.txt', 'a') as file:\n",
        "        file.write(f\"{i}--> DICE LOSS: {dice_loss}\\n\")\n",
        "    print(i)\n",
        "    dice_loss_list.append(dice_loss)\n",
        "\n",
        "with open('Eval_Metrices/DICE.txt', 'a') as file:\n",
        "    file.write(f\"Arithmatic mean DICE Loss: {sum(iou_score_list)/len(iou_score_list)}\")\n",
        "print(f\"Your IOUs have successfully been saved to DICE.txt file in Eval_Metrices folder\\nArithmatic Mean DICE LOSS for all images is: {sum(dice_loss_list)/len(dice_loss_list)}\")\n"
      ],
      "metadata": {
        "colab": {
          "base_uri": "https://localhost:8080/"
        },
        "id": "5NbfxELOdOCA",
        "outputId": "988ccc27-80ab-4392-ce83-25fa36b48e17"
      },
      "execution_count": 24,
      "outputs": [
        {
          "output_type": "stream",
          "name": "stdout",
          "text": [
            "gesh_368560_311267_20.jpg\n",
            "gesh_368560_311257_20.jpg\n",
            "gesh_368560_311266_20.jpg\n",
            "gesh_368560_311252_20.jpg\n",
            "Your IOUs have successfully been saved to DICE.txt file in Eval_Metrices folder\n",
            "Arithmatic Mean DICE LOSS for all images is: 0.0\n"
          ]
        }
      ]
    }
  ],
  "metadata": {
    "accelerator": "GPU",
    "colab": {
      "provenance": []
    },
    "kernelspec": {
      "display_name": "Python 3",
      "name": "python3"
    },
    "language_info": {
      "name": "python"
    }
  },
  "nbformat": 4,
  "nbformat_minor": 0
}